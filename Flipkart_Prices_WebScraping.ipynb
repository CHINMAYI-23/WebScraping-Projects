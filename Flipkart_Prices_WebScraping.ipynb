{
 "cells": [
  {
   "cell_type": "markdown",
   "id": "e42dd5fa-13f6-4e1f-966f-fb0fc3b61c61",
   "metadata": {},
   "source": [
    "# Web-Scraping using Python\n",
    "\n",
    "## Web Scraping Flipkart Prices"
   ]
  },
  {
   "cell_type": "code",
   "execution_count": 1,
   "id": "a80472fc-9771-42ee-8c04-0c101d1fa797",
   "metadata": {},
   "outputs": [],
   "source": [
    "import requests\n",
    "import os\n",
    "import pandas as pd\n",
    "from bs4 import BeautifulSoup "
   ]
  },
  {
   "cell_type": "code",
   "execution_count": 2,
   "id": "3f1d3455-fdef-4ba9-88f4-bc2f1804706c",
   "metadata": {},
   "outputs": [],
   "source": [
    "url1 = [\"https://www.flipkart.com/mokshi-women-printed-a-line-kurta/p/itm2b4226a62fe3e?pid=KTAG4NMWAAJNWQYN&lid=LSTKTAG4NMWAAJNWQYN3F51ZW&marketplace=FLIPKART&store=clo&srno=b_1_8&otracker=hp_rich_navigation_3_1.navigationCard.RICH_NAVIGATION_Fashion~Women%2BEthnic_HQXTE43PO8HC&otracker1=hp_rich_navigation_PINNED_neo%2Fmerchandising_NA_NAV_EXPANDABLE_navigationCard_cc_3_L1_view-all&fm=organic&iid=en_eZkWIbFIR_sVSVGvw9C92sOoAB6R8P-UJdNOp5oe1JvV-yqhy0ggr7Yqkrw3HrjKXgCx2d0A-bp9rlVQ1XDAYA%3D%3D&ppt=browse&ppn=browse&ssid=7t046wmzdc0000001706694202049\"]"
   ]
  },
  {
   "cell_type": "code",
   "execution_count": 5,
   "id": "8f9ec294-c139-4e7b-99f1-783a7e555e21",
   "metadata": {},
   "outputs": [],
   "source": [
    "def extract(url):\n",
    "    webpage=requests.get(url)\n",
    "    web=webpage.content\n",
    "    soup=BeautifulSoup(web,\"html.parser\")\n",
    "    value=soup.find(\"div\",{\"class\":\"_30jeq3 _16Jk6d\"})\n",
    "    m=value.text\n",
    "    print(m)"
   ]
  },
  {
   "cell_type": "code",
   "execution_count": 6,
   "id": "11ee48dd-0e78-4097-a9c9-8a3c4bf43982",
   "metadata": {},
   "outputs": [
    {
     "name": "stdout",
     "output_type": "stream",
     "text": [
      "₹329\n"
     ]
    }
   ],
   "source": [
    "result=[extract(url) for url in url1]"
   ]
  },
  {
   "cell_type": "code",
   "execution_count": null,
   "id": "562725f1-6b76-4f30-8c6b-2806623ad390",
   "metadata": {},
   "outputs": [],
   "source": []
  }
 ],
 "metadata": {
  "kernelspec": {
   "display_name": "Python 3 (ipykernel)",
   "language": "python",
   "name": "python3"
  },
  "language_info": {
   "codemirror_mode": {
    "name": "ipython",
    "version": 3
   },
   "file_extension": ".py",
   "mimetype": "text/x-python",
   "name": "python",
   "nbconvert_exporter": "python",
   "pygments_lexer": "ipython3",
   "version": "3.9.7"
  }
 },
 "nbformat": 4,
 "nbformat_minor": 5
}
