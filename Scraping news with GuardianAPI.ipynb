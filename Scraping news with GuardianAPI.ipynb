{
 "cells": [
  {
   "cell_type": "code",
   "execution_count": 34,
   "id": "94ab4a64-aa48-4085-8856-61edfb118e6b",
   "metadata": {},
   "outputs": [],
   "source": [
    "import pandas as pd\n",
    "import requests"
   ]
  },
  {
   "cell_type": "code",
   "execution_count": 35,
   "id": "f0013f0c-1dac-43f0-b02b-5c8b61be1774",
   "metadata": {},
   "outputs": [],
   "source": [
    "API_KEY=\"418ea463-63e1-4cc3-90cd-a5702a4118d8\""
   ]
  },
  {
   "cell_type": "code",
   "execution_count": 36,
   "id": "f406c505-8fd4-45de-8f79-312f413a4bc6",
   "metadata": {},
   "outputs": [],
   "source": [
    "url = \"https://content.guardianapis.com/world/narendra-modi?from-date=2021-01-01&api-key=418ea463-63e1-4cc3-90cd-a5702a4118d8&type=article&page=1\""
   ]
  },
  {
   "cell_type": "code",
   "execution_count": 37,
   "id": "07d464ea-da0f-4597-8944-bf3137578ae2",
   "metadata": {},
   "outputs": [],
   "source": [
    "urllist=[]"
   ]
  },
  {
   "cell_type": "code",
   "execution_count": 38,
   "id": "308c8c6f-142d-4055-9c46-0e115f657215",
   "metadata": {},
   "outputs": [],
   "source": [
    "for i in range(1,12):\n",
    "    a=\"https://content.guardianapis.com/world/narendra-modi?from-date=2021-01-01&api-key=418ea463-63e1-4cc3-90cd-a5702a4118d8&type=article&page=\"\n",
    "    b=str(i)\n",
    "    c=a+b\n",
    "    urllist.append(c)"
   ]
  },
  {
   "cell_type": "code",
   "execution_count": 39,
   "id": "31a35983-a39b-42b7-9405-e2bd95c03d31",
   "metadata": {},
   "outputs": [
    {
     "data": {
      "text/plain": [
       "['https://content.guardianapis.com/world/narendra-modi?from-date=2021-01-01&api-key=418ea463-63e1-4cc3-90cd-a5702a4118d8&type=article&page=1',\n",
       " 'https://content.guardianapis.com/world/narendra-modi?from-date=2021-01-01&api-key=418ea463-63e1-4cc3-90cd-a5702a4118d8&type=article&page=2',\n",
       " 'https://content.guardianapis.com/world/narendra-modi?from-date=2021-01-01&api-key=418ea463-63e1-4cc3-90cd-a5702a4118d8&type=article&page=3',\n",
       " 'https://content.guardianapis.com/world/narendra-modi?from-date=2021-01-01&api-key=418ea463-63e1-4cc3-90cd-a5702a4118d8&type=article&page=4',\n",
       " 'https://content.guardianapis.com/world/narendra-modi?from-date=2021-01-01&api-key=418ea463-63e1-4cc3-90cd-a5702a4118d8&type=article&page=5',\n",
       " 'https://content.guardianapis.com/world/narendra-modi?from-date=2021-01-01&api-key=418ea463-63e1-4cc3-90cd-a5702a4118d8&type=article&page=6',\n",
       " 'https://content.guardianapis.com/world/narendra-modi?from-date=2021-01-01&api-key=418ea463-63e1-4cc3-90cd-a5702a4118d8&type=article&page=7',\n",
       " 'https://content.guardianapis.com/world/narendra-modi?from-date=2021-01-01&api-key=418ea463-63e1-4cc3-90cd-a5702a4118d8&type=article&page=8',\n",
       " 'https://content.guardianapis.com/world/narendra-modi?from-date=2021-01-01&api-key=418ea463-63e1-4cc3-90cd-a5702a4118d8&type=article&page=9',\n",
       " 'https://content.guardianapis.com/world/narendra-modi?from-date=2021-01-01&api-key=418ea463-63e1-4cc3-90cd-a5702a4118d8&type=article&page=10',\n",
       " 'https://content.guardianapis.com/world/narendra-modi?from-date=2021-01-01&api-key=418ea463-63e1-4cc3-90cd-a5702a4118d8&type=article&page=11']"
      ]
     },
     "execution_count": 39,
     "metadata": {},
     "output_type": "execute_result"
    }
   ],
   "source": [
    "urllist"
   ]
  },
  {
   "cell_type": "code",
   "execution_count": 40,
   "id": "8bdd4387-3eb7-4115-9ed2-c54f650caf18",
   "metadata": {},
   "outputs": [],
   "source": [
    "info=[]"
   ]
  },
  {
   "cell_type": "code",
   "execution_count": 41,
   "id": "2e5f251c-879e-4f5c-bcac-f7cf9a918c59",
   "metadata": {},
   "outputs": [],
   "source": [
    "def json(url1):\n",
    "    response=requests.get(url1)\n",
    "    x=response.json()\n",
    "    info.append(x)"
   ]
  },
  {
   "cell_type": "code",
   "execution_count": 42,
   "id": "de13e05a-cf5b-468b-9f63-7fa39233f311",
   "metadata": {},
   "outputs": [],
   "source": [
    "output=[json(url1) for url1 in urllist]"
   ]
  },
  {
   "cell_type": "code",
   "execution_count": 43,
   "id": "42e567d8-8a2a-4b23-93b0-d1f2fe0528fb",
   "metadata": {},
   "outputs": [
    {
     "data": {
      "text/plain": [
       "'Sunak hints he will slow down progress on India trade deal'"
      ]
     },
     "execution_count": 43,
     "metadata": {},
     "output_type": "execute_result"
    }
   ],
   "source": [
    "info[10]['response']['results'][4]['webTitle']"
   ]
  },
  {
   "cell_type": "code",
   "execution_count": 44,
   "id": "165f8c98-3cec-4b30-bbe1-8809a6155bd4",
   "metadata": {},
   "outputs": [],
   "source": [
    "finallist=[]"
   ]
  },
  {
   "cell_type": "code",
   "execution_count": 45,
   "id": "920add43-1a10-487d-9661-6f65ada7b2a3",
   "metadata": {},
   "outputs": [],
   "source": [
    "try:\n",
    "    for i in range(0,11):\n",
    "        for j in range(0,10):\n",
    "            value=dict(webTitle=info[i]['response']['results'][j]['webTitle'],\n",
    "            sectionname=info[i]['response']['results'][j]['sectionName'],\n",
    "            publisheddate=info[i]['response']['results'][j]['webPublicationDate'],\n",
    "            weburl=info[i]['response']['results'][j]['webUrl'])\n",
    "        finallist.append(value)\n",
    "except IndexError:\n",
    "    print(\"done\")"
   ]
  },
  {
   "cell_type": "code",
   "execution_count": 46,
   "id": "bb5c2843-b18e-4bdb-8ffb-ab064e9ae8b2",
   "metadata": {},
   "outputs": [
    {
     "data": {
      "text/html": [
       "<div>\n",
       "<style scoped>\n",
       "    .dataframe tbody tr th:only-of-type {\n",
       "        vertical-align: middle;\n",
       "    }\n",
       "\n",
       "    .dataframe tbody tr th {\n",
       "        vertical-align: top;\n",
       "    }\n",
       "\n",
       "    .dataframe thead th {\n",
       "        text-align: right;\n",
       "    }\n",
       "</style>\n",
       "<table border=\"1\" class=\"dataframe\">\n",
       "  <thead>\n",
       "    <tr style=\"text-align: right;\">\n",
       "      <th></th>\n",
       "      <th>webTitle</th>\n",
       "      <th>sectionname</th>\n",
       "      <th>publisheddate</th>\n",
       "      <th>weburl</th>\n",
       "    </tr>\n",
       "  </thead>\n",
       "  <tbody>\n",
       "    <tr>\n",
       "      <th>0</th>\n",
       "      <td>Indian government accused of attack on democra...</td>\n",
       "      <td>World news</td>\n",
       "      <td>2023-12-19T16:29:06Z</td>\n",
       "      <td>https://www.theguardian.com/world/2023/dec/19/...</td>\n",
       "    </tr>\n",
       "    <tr>\n",
       "      <th>1</th>\n",
       "      <td>Canada killing adds to suspicions of Indian c...</td>\n",
       "      <td>World news</td>\n",
       "      <td>2023-09-19T18:33:17Z</td>\n",
       "      <td>https://www.theguardian.com/world/2023/sep/19/...</td>\n",
       "    </tr>\n",
       "    <tr>\n",
       "      <th>2</th>\n",
       "      <td>Biden renews effort to woo India’s Modi in tal...</td>\n",
       "      <td>US news</td>\n",
       "      <td>2023-09-08T18:48:58Z</td>\n",
       "      <td>https://www.theguardian.com/us-news/2023/sep/0...</td>\n",
       "    </tr>\n",
       "    <tr>\n",
       "      <th>3</th>\n",
       "      <td>Rahul Gandhi demands Modi investigation into A...</td>\n",
       "      <td>World news</td>\n",
       "      <td>2023-08-31T17:58:12Z</td>\n",
       "      <td>https://www.theguardian.com/world/2023/aug/31/...</td>\n",
       "    </tr>\n",
       "    <tr>\n",
       "      <th>4</th>\n",
       "      <td>‘Resistance is possible’: Ravish Kumar, the br...</td>\n",
       "      <td>Media</td>\n",
       "      <td>2023-07-02T09:00:38Z</td>\n",
       "      <td>https://www.theguardian.com/media/2023/jul/02/...</td>\n",
       "    </tr>\n",
       "    <tr>\n",
       "      <th>5</th>\n",
       "      <td>Indian court halts airing of documentary on Mu...</td>\n",
       "      <td>World news</td>\n",
       "      <td>2023-06-16T10:22:11Z</td>\n",
       "      <td>https://www.theguardian.com/world/2023/jun/16/...</td>\n",
       "    </tr>\n",
       "    <tr>\n",
       "      <th>6</th>\n",
       "      <td>The Guardian view on India at a crossroads: de...</td>\n",
       "      <td>Opinion</td>\n",
       "      <td>2023-04-24T18:04:31Z</td>\n",
       "      <td>https://www.theguardian.com/commentisfree/2023...</td>\n",
       "    </tr>\n",
       "    <tr>\n",
       "      <th>7</th>\n",
       "      <td>‘Bulldozer politics’: Modi’s demolition drive ...</td>\n",
       "      <td>World news</td>\n",
       "      <td>2023-03-19T05:00:30Z</td>\n",
       "      <td>https://www.theguardian.com/world/2023/mar/19/...</td>\n",
       "    </tr>\n",
       "    <tr>\n",
       "      <th>8</th>\n",
       "      <td>Tax raids at BBC offices in India enter second...</td>\n",
       "      <td>World news</td>\n",
       "      <td>2023-02-15T05:56:33Z</td>\n",
       "      <td>https://www.theguardian.com/world/2023/feb/15/...</td>\n",
       "    </tr>\n",
       "    <tr>\n",
       "      <th>9</th>\n",
       "      <td>India invokes emergency laws to ban BBC Modi d...</td>\n",
       "      <td>World news</td>\n",
       "      <td>2023-01-23T07:59:55Z</td>\n",
       "      <td>https://www.theguardian.com/world/2023/jan/23/...</td>\n",
       "    </tr>\n",
       "    <tr>\n",
       "      <th>10</th>\n",
       "      <td>In Britain and India, we must resist the tragi...</td>\n",
       "      <td>Opinion</td>\n",
       "      <td>2022-10-11T13:28:19Z</td>\n",
       "      <td>https://www.theguardian.com/commentisfree/2022...</td>\n",
       "    </tr>\n",
       "  </tbody>\n",
       "</table>\n",
       "</div>"
      ],
      "text/plain": [
       "                                             webTitle sectionname  \\\n",
       "0   Indian government accused of attack on democra...  World news   \n",
       "1    Canada killing adds to suspicions of Indian c...  World news   \n",
       "2   Biden renews effort to woo India’s Modi in tal...     US news   \n",
       "3   Rahul Gandhi demands Modi investigation into A...  World news   \n",
       "4   ‘Resistance is possible’: Ravish Kumar, the br...       Media   \n",
       "5   Indian court halts airing of documentary on Mu...  World news   \n",
       "6   The Guardian view on India at a crossroads: de...     Opinion   \n",
       "7   ‘Bulldozer politics’: Modi’s demolition drive ...  World news   \n",
       "8   Tax raids at BBC offices in India enter second...  World news   \n",
       "9   India invokes emergency laws to ban BBC Modi d...  World news   \n",
       "10  In Britain and India, we must resist the tragi...     Opinion   \n",
       "\n",
       "           publisheddate                                             weburl  \n",
       "0   2023-12-19T16:29:06Z  https://www.theguardian.com/world/2023/dec/19/...  \n",
       "1   2023-09-19T18:33:17Z  https://www.theguardian.com/world/2023/sep/19/...  \n",
       "2   2023-09-08T18:48:58Z  https://www.theguardian.com/us-news/2023/sep/0...  \n",
       "3   2023-08-31T17:58:12Z  https://www.theguardian.com/world/2023/aug/31/...  \n",
       "4   2023-07-02T09:00:38Z  https://www.theguardian.com/media/2023/jul/02/...  \n",
       "5   2023-06-16T10:22:11Z  https://www.theguardian.com/world/2023/jun/16/...  \n",
       "6   2023-04-24T18:04:31Z  https://www.theguardian.com/commentisfree/2023...  \n",
       "7   2023-03-19T05:00:30Z  https://www.theguardian.com/world/2023/mar/19/...  \n",
       "8   2023-02-15T05:56:33Z  https://www.theguardian.com/world/2023/feb/15/...  \n",
       "9   2023-01-23T07:59:55Z  https://www.theguardian.com/world/2023/jan/23/...  \n",
       "10  2022-10-11T13:28:19Z  https://www.theguardian.com/commentisfree/2022...  "
      ]
     },
     "execution_count": 46,
     "metadata": {},
     "output_type": "execute_result"
    }
   ],
   "source": [
    "data=pd.DataFrame(finallist)\n",
    "data"
   ]
  },
  {
   "cell_type": "code",
   "execution_count": 50,
   "id": "0adc57df-4e4c-4e2a-a5f9-3b6bf2c9f8ab",
   "metadata": {},
   "outputs": [],
   "source": [
    "#info"
   ]
  },
  {
   "cell_type": "code",
   "execution_count": 51,
   "id": "4259871b-c40e-4860-9df5-7fffa5813ce5",
   "metadata": {},
   "outputs": [],
   "source": [
    "#Save it to a csv file\n",
    "data.to_csv(\"Scraping news articles with GuardianAPI.csv\")"
   ]
  },
  {
   "cell_type": "code",
   "execution_count": 52,
   "id": "df222b59-2f2a-4a34-a343-91a9bd6381fd",
   "metadata": {},
   "outputs": [
    {
     "data": {
      "text/html": [
       "<div>\n",
       "<style scoped>\n",
       "    .dataframe tbody tr th:only-of-type {\n",
       "        vertical-align: middle;\n",
       "    }\n",
       "\n",
       "    .dataframe tbody tr th {\n",
       "        vertical-align: top;\n",
       "    }\n",
       "\n",
       "    .dataframe thead th {\n",
       "        text-align: right;\n",
       "    }\n",
       "</style>\n",
       "<table border=\"1\" class=\"dataframe\">\n",
       "  <thead>\n",
       "    <tr style=\"text-align: right;\">\n",
       "      <th></th>\n",
       "      <th>webTitle</th>\n",
       "      <th>sectionname</th>\n",
       "      <th>publisheddate</th>\n",
       "      <th>weburl</th>\n",
       "    </tr>\n",
       "  </thead>\n",
       "  <tbody>\n",
       "    <tr>\n",
       "      <th>0</th>\n",
       "      <td>Indian government accused of attack on democra...</td>\n",
       "      <td>World news</td>\n",
       "      <td>2023-12-19T16:29:06Z</td>\n",
       "      <td>https://www.theguardian.com/world/2023/dec/19/...</td>\n",
       "    </tr>\n",
       "    <tr>\n",
       "      <th>1</th>\n",
       "      <td>Canada killing adds to suspicions of Indian c...</td>\n",
       "      <td>World news</td>\n",
       "      <td>2023-09-19T18:33:17Z</td>\n",
       "      <td>https://www.theguardian.com/world/2023/sep/19/...</td>\n",
       "    </tr>\n",
       "    <tr>\n",
       "      <th>2</th>\n",
       "      <td>Biden renews effort to woo India’s Modi in tal...</td>\n",
       "      <td>US news</td>\n",
       "      <td>2023-09-08T18:48:58Z</td>\n",
       "      <td>https://www.theguardian.com/us-news/2023/sep/0...</td>\n",
       "    </tr>\n",
       "    <tr>\n",
       "      <th>3</th>\n",
       "      <td>Rahul Gandhi demands Modi investigation into A...</td>\n",
       "      <td>World news</td>\n",
       "      <td>2023-08-31T17:58:12Z</td>\n",
       "      <td>https://www.theguardian.com/world/2023/aug/31/...</td>\n",
       "    </tr>\n",
       "    <tr>\n",
       "      <th>4</th>\n",
       "      <td>‘Resistance is possible’: Ravish Kumar, the br...</td>\n",
       "      <td>Media</td>\n",
       "      <td>2023-07-02T09:00:38Z</td>\n",
       "      <td>https://www.theguardian.com/media/2023/jul/02/...</td>\n",
       "    </tr>\n",
       "  </tbody>\n",
       "</table>\n",
       "</div>"
      ],
      "text/plain": [
       "                                            webTitle sectionname  \\\n",
       "0  Indian government accused of attack on democra...  World news   \n",
       "1   Canada killing adds to suspicions of Indian c...  World news   \n",
       "2  Biden renews effort to woo India’s Modi in tal...     US news   \n",
       "3  Rahul Gandhi demands Modi investigation into A...  World news   \n",
       "4  ‘Resistance is possible’: Ravish Kumar, the br...       Media   \n",
       "\n",
       "          publisheddate                                             weburl  \n",
       "0  2023-12-19T16:29:06Z  https://www.theguardian.com/world/2023/dec/19/...  \n",
       "1  2023-09-19T18:33:17Z  https://www.theguardian.com/world/2023/sep/19/...  \n",
       "2  2023-09-08T18:48:58Z  https://www.theguardian.com/us-news/2023/sep/0...  \n",
       "3  2023-08-31T17:58:12Z  https://www.theguardian.com/world/2023/aug/31/...  \n",
       "4  2023-07-02T09:00:38Z  https://www.theguardian.com/media/2023/jul/02/...  "
      ]
     },
     "execution_count": 52,
     "metadata": {},
     "output_type": "execute_result"
    }
   ],
   "source": [
    "data.head()"
   ]
  },
  {
   "cell_type": "code",
   "execution_count": null,
   "id": "bd6edb97-e120-47dc-9a9e-b7d6a6a7464e",
   "metadata": {},
   "outputs": [],
   "source": []
  }
 ],
 "metadata": {
  "kernelspec": {
   "display_name": "Python 3 (ipykernel)",
   "language": "python",
   "name": "python3"
  },
  "language_info": {
   "codemirror_mode": {
    "name": "ipython",
    "version": 3
   },
   "file_extension": ".py",
   "mimetype": "text/x-python",
   "name": "python",
   "nbconvert_exporter": "python",
   "pygments_lexer": "ipython3",
   "version": "3.9.7"
  }
 },
 "nbformat": 4,
 "nbformat_minor": 5
}
